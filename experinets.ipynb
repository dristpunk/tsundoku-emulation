{
 "cells": [
  {
   "cell_type": "code",
   "execution_count": 1,
   "id": "b50c3f74-09b7-48d6-9223-d8cfb843d87b",
   "metadata": {},
   "outputs": [],
   "source": [
    "%load_ext autoreload\n",
    "%autoreload 2"
   ]
  },
  {
   "cell_type": "code",
   "execution_count": 2,
   "id": "a0b7d88b-8207-4871-a5dc-02f4526cfac7",
   "metadata": {},
   "outputs": [],
   "source": [
    "from emulation import Emulation"
   ]
  },
  {
   "cell_type": "code",
   "execution_count": 122,
   "id": "7bc2f1f9",
   "metadata": {},
   "outputs": [],
   "source": [
    "import yaml\n",
    "import pprint\n",
    "import pyperclip as clip\n",
    "\n",
    "def printLogs(logs):\n",
    "    logs_str = yaml.dump(logs, default_flow_style=False)\n",
    "    clip.copy(f\"{logs}\")\n",
    "    print(logs_str)\n",
    "    print('=========================')\n",
    "\n",
    "def copyLogs(logs):\n",
    "    clip.copy(f\"{logs}\")"
   ]
  },
  {
   "cell_type": "markdown",
   "id": "0135add2",
   "metadata": {},
   "source": [
    "### Памп и перезакладывание"
   ]
  },
  {
   "cell_type": "code",
   "execution_count": 165,
   "id": "c5a6b112",
   "metadata": {},
   "outputs": [],
   "source": [
    "def gigaFlip():\n",
    "    exp = Emulation()\n",
    "    log_start = exp.logState()\n",
    "    \n",
    "    prevBprice = exp.router.prices[exp.tokens[1]]\n",
    "\n",
    "    exp.host.mintTokens(exp.tokens[:2], [100, 100])\n",
    "\n",
    "    exp.host.deposit(0, exp.tokens[:2], [100, 100])\n",
    "\n",
    "    exp.farms.block += 60\n",
    "    \n",
    "    exp.router.changeTokenPrice(exp.tokens[1], prevBprice*100)\n",
    "\n",
    "    exp.host.withdraw(0)\n",
    "\n",
    "    exp.router.changeTokenPrice(exp.tokens[1], prevBprice)\n",
    "    \n",
    "    exp.host.deposit(0, exp.tokens[:2], [exp.tokens[0].balanceOf(exp.host), exp.tokens[1].balanceOf(exp.host)])\n",
    "\n",
    "    exp.farms.block += 36000\n",
    "\n",
    "    log_end = exp.logState()\n",
    "\n",
    "    for pid in exp.farms.userInfo:\n",
    "        for user in exp.farms.userInfo[pid]:\n",
    "            user.withdraw(pid)\n",
    "            print(f\"{user.name} balance: {exp.doku.balanceOf(user)//1e18}\")\n",
    "    \n",
    "    return log_start, log_end\n",
    "\n",
    "def allOk():\n",
    "    exp = Emulation()\n",
    "    log_start = exp.logState()\n",
    "    \n",
    "    prevBprice = exp.router.prices[exp.tokens[1]]\n",
    "\n",
    "    exp.host.mintTokens(exp.tokens[:2], [100, 100])\n",
    "\n",
    "    exp.host.deposit(0, exp.tokens[:2], [100, 100])\n",
    "\n",
    "    exp.farms.block += 60\n",
    "    exp.router.changeTokenPrice(exp.tokens[1], prevBprice*100)\n",
    "\n",
    "    exp.router.changeTokenPrice(exp.tokens[1], prevBprice)\n",
    "    \n",
    "    exp.farms.block += 36000\n",
    "\n",
    "    log_end = exp.logState()\n",
    "\n",
    "    for pid in exp.farms.userInfo:\n",
    "        for user in exp.farms.userInfo[pid]:\n",
    "            user.withdraw(pid)\n",
    "            print(f\"{user.name} balance: {exp.doku.balanceOf(user)//1e18}\")\n",
    "    \n",
    "    return log_start, log_end\n",
    "    \n",
    "    "
   ]
  },
  {
   "cell_type": "code",
   "execution_count": 166,
   "id": "8e05a854",
   "metadata": {},
   "outputs": [
    {
     "name": "stdout",
     "output_type": "stream",
     "text": [
      "alice balance: 10462.0\n",
      "HOST balance: 22283.0\n",
      "bob balance: 16230.0\n",
      "carol balance: 19813.0\n",
      "david balance: 30275.0\n",
      "===================\n",
      "alice balance: 15025.0\n",
      "HOST balance: 15025.0\n",
      "bob balance: 14364.0\n",
      "carol balance: 19813.0\n",
      "david balance: 34838.0\n"
     ]
    }
   ],
   "source": [
    "log_start, log_end = gigaFlip()\n",
    "print('===================')\n",
    "_, _ = allOk()"
   ]
  },
  {
   "cell_type": "code",
   "execution_count": 167,
   "id": "84beac79",
   "metadata": {},
   "outputs": [],
   "source": [
    "copyLogs(log_end)"
   ]
  },
  {
   "cell_type": "code",
   "execution_count": 155,
   "id": "6cdeef36",
   "metadata": {},
   "outputs": [
    {
     "name": "stdout",
     "output_type": "stream",
     "text": [
      "alice balance: 10462.0\n",
      "HOST balance: 22283.0\n",
      "bob balance: 16230.0\n",
      "carol balance: 19813.0\n",
      "david balance: 30275.0\n",
      "===================\n",
      "alice balance: 15025.0\n",
      "HOST balance: 15025.0\n",
      "bob balance: 14364.0\n",
      "carol balance: 19813.0\n",
      "david balance: 34838.0\n"
     ]
    }
   ],
   "source": [
    "log_start, log_end = gigaFlip()\n",
    "print('===================')\n",
    "_, _ = allOk()"
   ]
  },
  {
   "cell_type": "code",
   "execution_count": 124,
   "id": "f453f973",
   "metadata": {},
   "outputs": [],
   "source": [
    "copyLogs(log_start)"
   ]
  },
  {
   "cell_type": "code",
   "execution_count": 125,
   "id": "e9585e4f",
   "metadata": {},
   "outputs": [],
   "source": [
    "copyLogs(log_end)"
   ]
  },
  {
   "cell_type": "markdown",
   "id": "f9e90a28",
   "metadata": {},
   "source": [
    "### Цена токена растёт в 2 раза, при каждом повышении HOST перезакладывает"
   ]
  },
  {
   "cell_type": "code",
   "execution_count": 147,
   "id": "f42e4811",
   "metadata": {},
   "outputs": [],
   "source": [
    "def reBasing():\n",
    "    exp = Emulation()\n",
    "\n",
    "    exp.host.mintTokens(exp.tokens[:2], [100, 100])\n",
    "\n",
    "    exp.host.deposit(0, exp.tokens[:2], [100, 100])\n",
    "\n",
    "    exp.farms.block += 60\n",
    "    \n",
    "    nIter = 100\n",
    "    for i in range(nIter):\n",
    "        log_prev = exp.logState()\n",
    "        prevBprice = exp.router.prices[exp.tokens[1]]\n",
    "        exp.router.changeTokenPrice(exp.tokens[1], prevBprice * 2**(1/nIter))\n",
    "        exp.host.withdraw(0)    \n",
    "        exp.host.deposit(0, exp.tokens[:2], [exp.tokens[0].balanceOf(exp.host), exp.tokens[1].balanceOf(exp.host)])\n",
    "        exp.farms.block += 60\n",
    "\n",
    "    log_last = exp.logState()\n",
    "\n",
    "    for pid in exp.farms.userInfo:\n",
    "        for user in exp.farms.userInfo[pid]:                \n",
    "            user.withdraw(pid)\n",
    "            print(f\"{user.name} balance: {exp.doku.balanceOf(user)//1e18}\")\n",
    "    \n",
    "    return log_prev, log_last\n",
    "\n",
    "def allOk():\n",
    "    exp = Emulation()\n",
    "\n",
    "    exp.host.mintTokens(exp.tokens[:2], [100, 100])\n",
    "\n",
    "    exp.host.deposit(0, exp.tokens[:2], [100, 100])\n",
    "\n",
    "    exp.farms.block += 60\n",
    "    \n",
    "    nIter = 100\n",
    "    for i in range(nIter):\n",
    "        log_prev = exp.logState()\n",
    "        prevBprice = exp.router.prices[exp.tokens[1]]\n",
    "        exp.router.changeTokenPrice(exp.tokens[1], prevBprice * 2**(1/nIter))\n",
    "        exp.farms.block += 60\n",
    "\n",
    "    log_last = exp.logState()\n",
    "\n",
    "    for pid in exp.farms.userInfo:\n",
    "        for user in exp.farms.userInfo[pid]:                \n",
    "            user.withdraw(pid)\n",
    "            print(f\"{user.name} balance: {exp.doku.balanceOf(user)//1e18}\")\n",
    "    \n",
    "    return log_prev, log_last"
   ]
  },
  {
   "cell_type": "code",
   "execution_count": 148,
   "id": "10b50f17",
   "metadata": {},
   "outputs": [
    {
     "name": "stdout",
     "output_type": "stream",
     "text": [
      "alice balance: 2482.0\n",
      "HOST balance: 2565.0\n",
      "bob balance: 2458.0\n",
      "carol balance: 3329.0\n",
      "david balance: 5812.0\n",
      "============\n",
      "alice balance: 2525.0\n",
      "HOST balance: 2525.0\n",
      "bob balance: 2414.0\n",
      "carol balance: 3329.0\n",
      "david balance: 5854.0\n"
     ]
    }
   ],
   "source": [
    "log_start, log_end = reBasing()\n",
    "print('============')\n",
    "_, _ = allOk()"
   ]
  },
  {
   "cell_type": "code",
   "execution_count": null,
   "id": "c680af74",
   "metadata": {},
   "outputs": [],
   "source": [
    "copyLogs(log_start)"
   ]
  },
  {
   "cell_type": "code",
   "execution_count": null,
   "id": "169cd889",
   "metadata": {},
   "outputs": [],
   "source": [
    "copyLogs(log_end)"
   ]
  }
 ],
 "metadata": {
  "kernelspec": {
   "display_name": "Python 3.7.9 64-bit",
   "language": "python",
   "name": "python3"
  },
  "language_info": {
   "codemirror_mode": {
    "name": "ipython",
    "version": 3
   },
   "file_extension": ".py",
   "mimetype": "text/x-python",
   "name": "python",
   "nbconvert_exporter": "python",
   "pygments_lexer": "ipython3",
   "version": "3.7.9"
  },
  "vscode": {
   "interpreter": {
    "hash": "18a48fc460c1f0b0c5bf75348dd6c747ebd4bbe88737a0a38cb12ac465a16c51"
   }
  }
 },
 "nbformat": 4,
 "nbformat_minor": 5
}
