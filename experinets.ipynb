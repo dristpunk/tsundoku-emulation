{
 "cells": [
  {
   "cell_type": "code",
   "execution_count": 6,
   "id": "b50c3f74-09b7-48d6-9223-d8cfb843d87b",
   "metadata": {},
   "outputs": [],
   "source": [
    "%load_ext autoreload\n",
    "%autoreload 2"
   ]
  },
  {
   "cell_type": "code",
   "execution_count": 193,
   "id": "a0b7d88b-8207-4871-a5dc-02f4526cfac7",
   "metadata": {},
   "outputs": [],
   "source": [
    "from farms import Farms\n",
    "from user import User\n",
    "from mocks import Router, Treasury, ERC20"
   ]
  },
  {
   "cell_type": "code",
   "execution_count": 194,
   "id": "7da3ba9e-c2fb-4b1f-9605-dea5f39a775b",
   "metadata": {},
   "outputs": [],
   "source": [
    "farms = Farms(1000 * 1e18, 100)"
   ]
  },
  {
   "cell_type": "code",
   "execution_count": 195,
   "id": "1839c316-e1c3-49b3-a8e6-059df9cfede8",
   "metadata": {},
   "outputs": [],
   "source": [
    "router, treasury, doku = Router(farms), Treasury(), ERC20('doku')"
   ]
  },
  {
   "cell_type": "code",
   "execution_count": 196,
   "id": "7fca416c-496b-4793-9b12-50d6ac0217b6",
   "metadata": {},
   "outputs": [],
   "source": [
    "farms.initialize(doku, treasury, router)"
   ]
  },
  {
   "cell_type": "code",
   "execution_count": 197,
   "id": "aeeb7a3d-59ed-4046-bd12-c3fb70d87661",
   "metadata": {},
   "outputs": [],
   "source": [
    "users_names= ['alice', 'bob', 'carol', 'david', \n",
    "             'eva', 'finn', 'gleb', 'harry', \n",
    "             'ivan', 'jack', 'kevin', 'larry', \n",
    "             'mary', 'nick', 'oliver', 'peter', \n",
    "             'quill', 'rug', 'steve', 'tarry', \n",
    "             'ulia', 'vasy', 'will', 'xavier', \n",
    "             'yair', 'zoe']\n",
    "\n",
    "users = [User(name, farms) for name in users_names]"
   ]
  },
  {
   "cell_type": "code",
   "execution_count": 198,
   "id": "a2edb032-b815-485c-b253-7ad7820ef9c2",
   "metadata": {},
   "outputs": [],
   "source": [
    "tokens_names = ['A', 'B', 'C', 'D', 'E']\n",
    "tokens = [ERC20(name) for name in tokens_names]"
   ]
  },
  {
   "cell_type": "code",
   "execution_count": 199,
   "id": "b193dc23-1c90-4fc9-87c0-bf62070d864b",
   "metadata": {},
   "outputs": [],
   "source": [
    "farms.setToken(tokens[0], 100)\n",
    "farms.setToken(tokens[1], 1000)\n",
    "farms.setToken(tokens[2], 200)\n",
    "farms.setToken(tokens[3], 300)\n",
    "farms.setToken(tokens[4], 100)"
   ]
  },
  {
   "cell_type": "code",
   "execution_count": 213,
   "id": "6ba4a023-f73e-4f10-85ba-40f3c0ece04c",
   "metadata": {},
   "outputs": [
    {
     "data": {
      "text/plain": [
       "[1300,\n",
       " 1300,\n",
       " 1200,\n",
       " 1200,\n",
       " 1100,\n",
       " 1100,\n",
       " 1000,\n",
       " 1000,\n",
       " 900,\n",
       " 900,\n",
       " 800,\n",
       " 800,\n",
       " 700,\n",
       " 700,\n",
       " 600,\n",
       " 600,\n",
       " 500,\n",
       " 500,\n",
       " 400,\n",
       " 400,\n",
       " 300,\n",
       " 300,\n",
       " 200,\n",
       " 200,\n",
       " 100,\n",
       " 100]"
      ]
     },
     "execution_count": 213,
     "metadata": {},
     "output_type": "execute_result"
    }
   ],
   "source": [
    "sorted(list(range(100,1400, 100)) * 2, reverse=True)"
   ]
  },
  {
   "cell_type": "code",
   "execution_count": 200,
   "id": "f8284662-e431-4a7b-ba3d-5074ad7c92cb",
   "metadata": {},
   "outputs": [],
   "source": [
    "users[0].mintTokens(tokens[:3], [100, 100, 100])\n",
    "users[1].mintTokens(tokens[:2], [100, 100])"
   ]
  },
  {
   "cell_type": "code",
   "execution_count": 201,
   "id": "43a5ee74-b947-4256-be39-860a1a18e09d",
   "metadata": {},
   "outputs": [],
   "source": [
    "farms.createPool(users[0], tokens[:3], [33, 33, 33], [100, 100, 100])"
   ]
  },
  {
   "cell_type": "code",
   "execution_count": 202,
   "id": "44b756a3-25a7-47ff-8f76-1951f4e7f378",
   "metadata": {},
   "outputs": [],
   "source": [
    "farms.deposit(users[1], 0, tokens[:2], [100, 100])"
   ]
  },
  {
   "cell_type": "code",
   "execution_count": 204,
   "id": "bc6f781b-2965-44ed-9596-e83fbbc8b3c5",
   "metadata": {},
   "outputs": [
    {
     "data": {
      "text/plain": [
       "[{'amounts': {'A': 200, 'B': 200, 'C': 100},\n",
       "  'weights': {'A': 33, 'B': 33, 'C': 33},\n",
       "  'users': {'alice': {'amounts': {'A': 100, 'B': 100, 'C': 100}},\n",
       "   'bob': {'amounts': {'A': 100, 'B': 100}}}}]"
      ]
     },
     "execution_count": 204,
     "metadata": {},
     "output_type": "execute_result"
    }
   ],
   "source": [
    "router.getPools()"
   ]
  },
  {
   "cell_type": "code",
   "execution_count": 182,
   "id": "dfa62fd5-16c8-4063-81b9-12142ea78bdb",
   "metadata": {},
   "outputs": [],
   "source": [
    "farms.block += 100"
   ]
  },
  {
   "cell_type": "code",
   "execution_count": 165,
   "id": "2f07dc23-1cab-469b-b2a9-01811c2601da",
   "metadata": {},
   "outputs": [],
   "source": [
    "farms.massUpdateTokens()"
   ]
  },
  {
   "cell_type": "code",
   "execution_count": 166,
   "id": "7e854df2-7d18-4ff9-8c68-279c1e95a032",
   "metadata": {},
   "outputs": [],
   "source": [
    "farms.harvest(users[0], 0)"
   ]
  },
  {
   "cell_type": "code",
   "execution_count": 167,
   "id": "0017ad9c-58d6-4f2a-9df2-1790601c45d6",
   "metadata": {},
   "outputs": [],
   "source": [
    "farms.block += 100"
   ]
  },
  {
   "cell_type": "code",
   "execution_count": 185,
   "id": "3ae7d488-3125-478c-b50b-6854704c7741",
   "metadata": {},
   "outputs": [
    {
     "data": {
      "text/plain": [
       "{'A': {'allocPoint': 100,\n",
       "  'lastRewardBlock': 0,\n",
       "  'accDokuPerShare': 0,\n",
       "  'amount': 200},\n",
       " 'B': {'allocPoint': 1000,\n",
       "  'lastRewardBlock': 0,\n",
       "  'accDokuPerShare': 0,\n",
       "  'amount': 200},\n",
       " 'C': {'allocPoint': 200,\n",
       "  'lastRewardBlock': 0,\n",
       "  'accDokuPerShare': 0,\n",
       "  'amount': 100},\n",
       " 'D': {'allocPoint': 300,\n",
       "  'lastRewardBlock': 0,\n",
       "  'accDokuPerShare': 0,\n",
       "  'amount': 0},\n",
       " 'E': {'allocPoint': 100,\n",
       "  'lastRewardBlock': 0,\n",
       "  'accDokuPerShare': 0,\n",
       "  'amount': 0}}"
      ]
     },
     "execution_count": 185,
     "metadata": {},
     "output_type": "execute_result"
    }
   ],
   "source": [
    "farms.getTokenInfo()"
   ]
  },
  {
   "cell_type": "code",
   "execution_count": 186,
   "id": "ff3d6d7f-36d7-4292-9b48-89bbcd121948",
   "metadata": {},
   "outputs": [],
   "source": [
    "farms.withdrawAndHarvest(users[1], 0, tokens[:2], [100, 100])"
   ]
  },
  {
   "cell_type": "code",
   "execution_count": 187,
   "id": "191f3edb-7717-40b8-a941-62f33dcc8583",
   "metadata": {},
   "outputs": [
    {
     "data": {
      "text/plain": [
       "{'A': {'allocPoint': 100,\n",
       "  'lastRewardBlock': 100,\n",
       "  'accDokuPerShare': 2.941176470588235e+31,\n",
       "  'amount': 100},\n",
       " 'B': {'allocPoint': 1000,\n",
       "  'lastRewardBlock': 100,\n",
       "  'accDokuPerShare': 2.9411764705882348e+32,\n",
       "  'amount': 100},\n",
       " 'C': {'allocPoint': 200,\n",
       "  'lastRewardBlock': 0,\n",
       "  'accDokuPerShare': 0,\n",
       "  'amount': 100},\n",
       " 'D': {'allocPoint': 300,\n",
       "  'lastRewardBlock': 0,\n",
       "  'accDokuPerShare': 0,\n",
       "  'amount': 0},\n",
       " 'E': {'allocPoint': 100,\n",
       "  'lastRewardBlock': 0,\n",
       "  'accDokuPerShare': 0,\n",
       "  'amount': 0}}"
      ]
     },
     "execution_count": 187,
     "metadata": {},
     "output_type": "execute_result"
    }
   ],
   "source": [
    "farms.getTokenInfo()"
   ]
  },
  {
   "cell_type": "code",
   "execution_count": 92,
   "id": "a153cdd1-036a-4e4d-9663-b1263a6539d6",
   "metadata": {},
   "outputs": [
    {
     "data": {
      "text/plain": [
       "{0: {'alice': {'amounts': {'A': 100, 'B': 100, 'C': 100},\n",
       "   'rewardDebt': 4.411764705882352e+34},\n",
       "  'bob': {'amounts': {'A': 0, 'B': 0}, 'rewardDebt': 6.470588235287647e+34}}}"
      ]
     },
     "execution_count": 92,
     "metadata": {},
     "output_type": "execute_result"
    }
   ],
   "source": [
    "farms.userInfo"
   ]
  },
  {
   "cell_type": "code",
   "execution_count": null,
   "id": "09e5bd44-d7dd-4ca9-a446-1b6319f87eb4",
   "metadata": {},
   "outputs": [],
   "source": []
  }
 ],
 "metadata": {
  "kernelspec": {
   "display_name": "Python 3 (ipykernel)",
   "language": "python",
   "name": "python3"
  },
  "language_info": {
   "codemirror_mode": {
    "name": "ipython",
    "version": 3
   },
   "file_extension": ".py",
   "mimetype": "text/x-python",
   "name": "python",
   "nbconvert_exporter": "python",
   "pygments_lexer": "ipython3",
   "version": "3.7.9"
  }
 },
 "nbformat": 4,
 "nbformat_minor": 5
}
